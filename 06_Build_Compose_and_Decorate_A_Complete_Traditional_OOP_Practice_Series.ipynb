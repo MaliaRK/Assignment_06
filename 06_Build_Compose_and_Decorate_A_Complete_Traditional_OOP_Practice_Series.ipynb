{
  "nbformat": 4,
  "nbformat_minor": 0,
  "metadata": {
    "colab": {
      "provenance": [],
      "authorship_tag": "ABX9TyO3N6bag6kgVExGGyqp+jnV",
      "include_colab_link": true
    },
    "kernelspec": {
      "name": "python3",
      "display_name": "Python 3"
    },
    "language_info": {
      "name": "python"
    }
  },
  "cells": [
    {
      "cell_type": "markdown",
      "metadata": {
        "id": "view-in-github",
        "colab_type": "text"
      },
      "source": [
        "<a href=\"https://colab.research.google.com/github/MaliaRK/Assignment_06/blob/main/06_Build_Compose_and_Decorate_A_Complete_Traditional_OOP_Practice_Series.ipynb\" target=\"_parent\"><img src=\"https://colab.research.google.com/assets/colab-badge.svg\" alt=\"Open In Colab\"/></a>"
      ]
    },
    {
      "cell_type": "markdown",
      "source": [
        "#1.  Using self\n",
        "\n",
        "Assignment:\n",
        "Create a class Student with attributes name and marks. Use the self keyword to initialize these values via a constructor. Add a method display() that prints student details."
      ],
      "metadata": {
        "id": "sM2DfN3zRqXy"
      }
    },
    {
      "cell_type": "code",
      "execution_count": null,
      "metadata": {
        "colab": {
          "base_uri": "https://localhost:8080/"
        },
        "id": "bHE8k1V5Rgie",
        "outputId": "62a01910-474b-4fd2-9e90-04ba93db3044"
      },
      "outputs": [
        {
          "output_type": "stream",
          "name": "stdout",
          "text": [
            "Student Details:\n",
            "Name: Malia Raees\n",
            "Marks: 80\n"
          ]
        }
      ],
      "source": [
        "class Student():\n",
        "  def __init__(self, name: str, marks: int):\n",
        "    self.name = name\n",
        "    self.marks = marks\n",
        "\n",
        "  def display(self):\n",
        "    print(f\"Student Details:\\nName: {self.name}\\nMarks: {self.marks}\")\n",
        "\n",
        "obj1: Student = Student(\"Malia Raees\", 80)\n",
        "obj1.display()"
      ]
    },
    {
      "cell_type": "markdown",
      "source": [
        "#2. Using cls\n",
        "Assignment:\n",
        "Create a class Counter that keeps track of how many objects have been created. Use a class variable and a class method with cls to manage and display the count.\n",
        "\n"
      ],
      "metadata": {
        "id": "_CHD2P8SVX9r"
      }
    },
    {
      "cell_type": "code",
      "source": [
        "class Counter():\n",
        "  count = 0                # class variable\n",
        "\n",
        "  def __init__(self) -> None:\n",
        "    Counter.count += 1\n",
        "\n",
        "  @classmethod                       # class method with cls\n",
        "  def display_count(cls):\n",
        "    return f\"There are {cls.count} objects in this class.\"\n",
        "\n",
        "obj2: Counter = Counter()\n",
        "obj3: Counter = Counter()\n",
        "\n",
        "obj3.display_count()"
      ],
      "metadata": {
        "colab": {
          "base_uri": "https://localhost:8080/",
          "height": 36
        },
        "id": "igykhfSkWYaw",
        "outputId": "960e34d2-6a77-44ae-8958-4f09804dc06b"
      },
      "execution_count": null,
      "outputs": [
        {
          "output_type": "execute_result",
          "data": {
            "text/plain": [
              "'There are 2 objects in this class.'"
            ],
            "application/vnd.google.colaboratory.intrinsic+json": {
              "type": "string"
            }
          },
          "metadata": {},
          "execution_count": 24
        }
      ]
    },
    {
      "cell_type": "markdown",
      "source": [
        "#3. Public Variables and Methods\n",
        "Assignment:\n",
        "Create a class Car with a public variable brand and a public method start(). Instantiate the class and access both from outside the class."
      ],
      "metadata": {
        "id": "tDcf0izEgaE_"
      }
    },
    {
      "cell_type": "code",
      "source": [
        "class Car():\n",
        "  def __init__(self, brand: str) -> None:\n",
        "    self.brand = brand\n",
        "\n",
        "  def start(self):\n",
        "    print(self.brand, \"is start.\")\n",
        "\n",
        "car: Car = Car(\"suzuki\")\n",
        "\n",
        "print(car.brand)\n",
        "car.start()"
      ],
      "metadata": {
        "colab": {
          "base_uri": "https://localhost:8080/"
        },
        "id": "0L_PGtajgitO",
        "outputId": "29cc2905-9e4a-449f-d8df-9a41214d90ea"
      },
      "execution_count": null,
      "outputs": [
        {
          "output_type": "stream",
          "name": "stdout",
          "text": [
            "suzuki\n",
            "suzuki is start.\n"
          ]
        }
      ]
    },
    {
      "cell_type": "markdown",
      "source": [
        "#4. Class Variables and Class Methods\n",
        "Assignment:\n",
        "Create a class Bank with a class variable bank_name. Add a class method change_bank_name(cls, name) that allows changing the bank name. Show that it affects all instances."
      ],
      "metadata": {
        "id": "gXrE49pnsEG0"
      }
    },
    {
      "cell_type": "code",
      "source": [
        "class Bank():\n",
        "  bank_name = \"Habib Bank Limited\"\n",
        "\n",
        "  @classmethod\n",
        "  def change_bank_name(cls, name: str):\n",
        "    cls.bank_name = name\n",
        "    return cls.bank_name\n",
        "\n",
        "bank: Bank = Bank()\n",
        "\n",
        "print(bank.bank_name)\n",
        "bank.change_bank_name(\"Meezan bank\")\n",
        "print(bank.bank_name)"
      ],
      "metadata": {
        "colab": {
          "base_uri": "https://localhost:8080/"
        },
        "id": "z6DAXbafsNIc",
        "outputId": "a44d9463-5251-46f8-942e-e89ec03a3eb0"
      },
      "execution_count": null,
      "outputs": [
        {
          "output_type": "stream",
          "name": "stdout",
          "text": [
            "Habib Bank Limited\n",
            "Meezan bank\n"
          ]
        }
      ]
    },
    {
      "cell_type": "markdown",
      "source": [
        "#5. Static Variables and Static Methods\n",
        "Assignment:\n",
        "Create a class MathUtils with a static method add(a, b) that returns the sum. No class or instance variables should be used."
      ],
      "metadata": {
        "id": "vkoSeDDW0Kxk"
      }
    },
    {
      "cell_type": "code",
      "source": [
        "class MathUtils():\n",
        "\n",
        "  @staticmethod\n",
        "  def add(a: int, b: int)-> int:\n",
        "    return a + b\n",
        "\n",
        "\n",
        "MathUtils.add(2, 4)"
      ],
      "metadata": {
        "colab": {
          "base_uri": "https://localhost:8080/"
        },
        "id": "qghn2I5m0Pdj",
        "outputId": "3a3da0a0-21e1-42a7-a82e-5f1b30f22ff9"
      },
      "execution_count": null,
      "outputs": [
        {
          "output_type": "execute_result",
          "data": {
            "text/plain": [
              "6"
            ]
          },
          "metadata": {},
          "execution_count": 93
        }
      ]
    },
    {
      "cell_type": "markdown",
      "source": [
        "#6. Constructors and Destructors\n",
        "Assignment:\n",
        "Create a class Logger that prints a message when an object is created (constructor) and another message when it is destroyed (destructor)."
      ],
      "metadata": {
        "id": "IBxuRxzu2uPU"
      }
    },
    {
      "cell_type": "code",
      "source": [
        "class Logger():\n",
        "  def __init__(self) -> None:\n",
        "    print(\"object created\")\n",
        "\n",
        "  def __del__(self)-> None:\n",
        "    print(\"object destroyed.\")\n",
        "\n",
        "result: Logger = Logger()\n",
        "del result"
      ],
      "metadata": {
        "colab": {
          "base_uri": "https://localhost:8080/"
        },
        "id": "Q783jVcL297j",
        "outputId": "ee622307-a7a9-4933-905b-878c3f4aba86"
      },
      "execution_count": null,
      "outputs": [
        {
          "output_type": "stream",
          "name": "stdout",
          "text": [
            "object created\n",
            "object destroyed.\n"
          ]
        }
      ]
    },
    {
      "cell_type": "markdown",
      "source": [
        "#7. Access Modifiers: Public, Private, and Protected\n",
        "Assignment:\n",
        "Create a class Employee with:\n",
        "\n",
        "a public variable name,\n",
        "\n",
        "a protected variable _salary, and\n",
        "\n",
        "a private variable __ssn.\n",
        "\n",
        "Try accessing all three variables from an object of the class and document what happens."
      ],
      "metadata": {
        "id": "ccgrybS54szr"
      }
    },
    {
      "cell_type": "code",
      "source": [
        "class Employee():\n",
        "  def __init__(self, name: str, salary: int, ssn: str) -> None:\n",
        "    self.name = name           # public\n",
        "    self._salary = salary      # protected\n",
        "    self.__ssn = ssn           # private\n",
        "\n",
        "person: Employee = Employee(\"Malia Raees\", 80000, \"123-456-789\")\n",
        "\n",
        "print(person.name)\n",
        "print(person._salary)         # not recommended\n",
        "print(person._Employee__ssn)\n",
        "\n",
        "\n",
        "# Document:\n",
        "\n",
        "# Public (name)\n",
        "# Directly accessible: person.name\n",
        "\n",
        "# Protected (_salary)\n",
        "# Conventionally accessed via getter: person.get_salary()\n",
        "# Direct access person._salary works but is discouraged (it’s a warning to devs).\n",
        "\n",
        "# Private (__ssn)\n",
        "# Direct access fails: person.__ssn → Error\n",
        "# Name Mangling: Python renames it to _Employee__ssn (accessible but not recommended)."
      ],
      "metadata": {
        "colab": {
          "base_uri": "https://localhost:8080/"
        },
        "id": "gbOUik5H5iIb",
        "outputId": "73a62495-d5c6-4cae-b4f8-df57b6285a5f"
      },
      "execution_count": null,
      "outputs": [
        {
          "output_type": "stream",
          "name": "stdout",
          "text": [
            "Malia Raees\n",
            "80000\n",
            "123-456-789\n"
          ]
        }
      ]
    },
    {
      "cell_type": "markdown",
      "source": [
        "#8. The super() Function\n",
        "Assignment:\n",
        "Create a class Person with a constructor that sets the name. Inherit a class Teacher from it, add a subject field, and use super() to call the base class constructor."
      ],
      "metadata": {
        "id": "_C0Ts3__PaGu"
      }
    },
    {
      "cell_type": "code",
      "source": [
        "class Person():\n",
        "  def __init__(self, name: str) -> None:\n",
        "    self.name = name\n",
        "\n",
        "class Teacher(Person):\n",
        "  def __init__(self, name: str, subject: str) -> None:\n",
        "    super().__init__(name)\n",
        "    self.subject = subject\n",
        "\n",
        "  def teaching(self) -> None:\n",
        "    print(f\"{self.name} is teaching {self.subject}.\")\n",
        "\n",
        "teacher: Teacher = Teacher('Malia Raees', 'python')\n",
        "\n",
        "print(teacher.name)\n",
        "teacher.teaching()"
      ],
      "metadata": {
        "colab": {
          "base_uri": "https://localhost:8080/"
        },
        "id": "UY0D70COPceO",
        "outputId": "ff19ec1f-01d3-4c4a-8e61-49933a9f145d"
      },
      "execution_count": null,
      "outputs": [
        {
          "output_type": "stream",
          "name": "stdout",
          "text": [
            "Malia Raees\n",
            "Malia Raees is teaching python.\n"
          ]
        }
      ]
    },
    {
      "cell_type": "markdown",
      "source": [
        "#9. Abstract Classes and Methods\n",
        "Assignment:\n",
        "Use the abc module to create an abstract class Shape with an abstract method area(). Inherit a class Rectangle that implements area()."
      ],
      "metadata": {
        "id": "ISpmufi3T5gZ"
      }
    },
    {
      "cell_type": "code",
      "source": [
        "from abc import ABC, abstractmethod\n",
        "\n",
        "class Shape(ABC):\n",
        "  @abstractmethod\n",
        "  def area(self) -> float:\n",
        "    pass\n",
        "\n",
        "class Rectangle(Shape):\n",
        "  def __init__(self, length: float, height: float) -> None:\n",
        "    super().__init__()\n",
        "    self.length = length\n",
        "    self.height = height\n",
        "\n",
        "  def area(self) -> float:\n",
        "    return self.length * self.height\n",
        "\n",
        "rectangle: Rectangle = Rectangle(5, 8)\n",
        "\n",
        "print(\"Area of rectangle is: \", rectangle.area())"
      ],
      "metadata": {
        "colab": {
          "base_uri": "https://localhost:8080/"
        },
        "id": "w4A7MwlmT60X",
        "outputId": "b961fc85-b8e9-4f42-b055-4327eddcaa15"
      },
      "execution_count": null,
      "outputs": [
        {
          "output_type": "stream",
          "name": "stdout",
          "text": [
            "Area of rectangle is:  40\n"
          ]
        }
      ]
    },
    {
      "cell_type": "markdown",
      "source": [
        "#10. Instance Methods\n",
        "Assignment:\n",
        "Create a class Dog with instance variables name and breed. Add an instance method bark() that prints a message including the dog's name."
      ],
      "metadata": {
        "id": "beH0Q3dUehUb"
      }
    },
    {
      "cell_type": "code",
      "source": [
        "class Dog():\n",
        "  def __init__(self, name: str, breed: str) -> None:\n",
        "    self.name = name\n",
        "    self.breed = breed\n",
        "\n",
        "  def bark(self):\n",
        "    print(f\"{self.name} the {self.breed} is barking! woof woof!\")\n",
        "\n",
        "dog: Dog = Dog('shero', 'Golden Retriever')\n",
        "\n",
        "print(f\"{dog.name} is a {dog.breed}.\")\n",
        "dog.bark()"
      ],
      "metadata": {
        "colab": {
          "base_uri": "https://localhost:8080/"
        },
        "id": "fqG9-7Vjejqb",
        "outputId": "b08343d4-a0bd-42de-f284-65d33db1240a"
      },
      "execution_count": null,
      "outputs": [
        {
          "output_type": "stream",
          "name": "stdout",
          "text": [
            "shero is a Golden Retriever.\n",
            "shero the Golden Retriever is barking! woof woof!\n"
          ]
        }
      ]
    },
    {
      "cell_type": "markdown",
      "source": [
        "#11. Class Methods\n",
        "Assignment:\n",
        "Create a class Book with a class variable total_books. Add a class method increment_book_count() to increase the count when a new book is added."
      ],
      "metadata": {
        "id": "vIu6CpryiG60"
      }
    },
    {
      "cell_type": "code",
      "source": [
        "class Book():\n",
        "  total_books = 0    # class variable\n",
        "\n",
        "  @classmethod\n",
        "  def increment_book_count(cls):\n",
        "    cls.total_books += 1\n",
        "    return f\"New book is added.\\nTotal books: {cls.total_books}\\n\"\n",
        "\n",
        "book1: Book = Book()\n",
        "book2: Book = Book()\n",
        "book3: Book = Book()\n",
        "\n",
        "print(book1.increment_book_count())\n",
        "print(book2.increment_book_count())\n",
        "print(book3.increment_book_count())"
      ],
      "metadata": {
        "colab": {
          "base_uri": "https://localhost:8080/"
        },
        "id": "KuvdMJ3b2XSV",
        "outputId": "391efbfa-b5ef-4083-90ec-7ec1ccc42fdf"
      },
      "execution_count": null,
      "outputs": [
        {
          "output_type": "stream",
          "name": "stdout",
          "text": [
            "New book is added.\n",
            "Total books: 1\n",
            "\n",
            "New book is added.\n",
            "Total books: 2\n",
            "\n",
            "New book is added.\n",
            "Total books: 3\n",
            "\n"
          ]
        }
      ]
    },
    {
      "cell_type": "markdown",
      "source": [
        "#12. Static Methods\n",
        "Assignment:\n",
        "Create a class TemperatureConverter with a static method celsius_to_fahrenheit(c) that returns the Fahrenheit value."
      ],
      "metadata": {
        "id": "gsnRVXPu-ZFk"
      }
    },
    {
      "cell_type": "code",
      "source": [
        "class TemperatureConverter():\n",
        "\n",
        "  @staticmethod\n",
        "  def celsius_to_fahrenheit(celsius: float) -> float:\n",
        "    fahrenhiet = (celsius * 9 / 5) + 32\n",
        "    return fahrenhiet\n",
        "\n",
        "TemperatureConverter.celsius_to_fahrenheit(6)"
      ],
      "metadata": {
        "colab": {
          "base_uri": "https://localhost:8080/"
        },
        "id": "aHvrrfQJBdXO",
        "outputId": "5e34f222-43e6-4ec1-8d61-09ceb8b28858"
      },
      "execution_count": null,
      "outputs": [
        {
          "output_type": "execute_result",
          "data": {
            "text/plain": [
              "42.8"
            ]
          },
          "metadata": {},
          "execution_count": 28
        }
      ]
    },
    {
      "cell_type": "markdown",
      "source": [
        "#13. Composition\n",
        "Assignment:\n",
        "Create a class Engine and a class Car. Use composition by passing an Engine object to the Car class during initialization. Access a method of the Engine class via the Car class."
      ],
      "metadata": {
        "id": "nAAeloy-Fq3n"
      }
    },
    {
      "cell_type": "code",
      "source": [
        "class Engine():\n",
        "  def start(self):\n",
        "    print(\"Engine starts!\")\n",
        "\n",
        "class Car():\n",
        "  def __init__(self):\n",
        "    self.engine = Engine()         # composition\n",
        "\n",
        "  def drive(self):\n",
        "    self.engine.start()\n",
        "\n",
        "car1: Car = Car()\n",
        "\n",
        "car1.drive()"
      ],
      "metadata": {
        "colab": {
          "base_uri": "https://localhost:8080/"
        },
        "id": "6a5oyZbZFu--",
        "outputId": "7ea64eae-2bbc-4a84-9553-36ec72e67ee4"
      },
      "execution_count": null,
      "outputs": [
        {
          "output_type": "stream",
          "name": "stdout",
          "text": [
            "Engine starts!\n"
          ]
        }
      ]
    },
    {
      "cell_type": "markdown",
      "source": [
        "#14. Aggregation\n",
        "Assignment:\n",
        "Create a class Department and a class Employee. Use aggregation by having a Department object store a reference to an Employee object that exists independently of it."
      ],
      "metadata": {
        "id": "dG3CTQoedy3u"
      }
    },
    {
      "cell_type": "code",
      "source": [
        "class Employee():\n",
        "  def __init__(self, name: str) -> None:\n",
        "    self.name = name\n",
        "\n",
        "class Department():\n",
        "  def __init__(self, employees: list[Employee]) -> None:       # aggregation\n",
        "    self.employee = employees\n",
        "\n",
        "emp1: Employee = Employee('Asma')\n",
        "emp2: Employee = Employee('Khadija')\n",
        "\n",
        "depart: Department = Department([emp1, emp2])\n",
        "\n",
        "depart.employee          # output  [<__main__.Employee at 0x79232db8f750>, <__main__.Employee at 0x79232da11d10>]\n",
        "del depart\n",
        "\n",
        "emp1.name                # still employee exist due to aggregation"
      ],
      "metadata": {
        "colab": {
          "base_uri": "https://localhost:8080/",
          "height": 35
        },
        "id": "KpR3vVBpi3WP",
        "outputId": "5883fdde-55c0-489f-9149-6d107792b17e"
      },
      "execution_count": null,
      "outputs": [
        {
          "output_type": "execute_result",
          "data": {
            "text/plain": [
              "'Asma'"
            ],
            "application/vnd.google.colaboratory.intrinsic+json": {
              "type": "string"
            }
          },
          "metadata": {},
          "execution_count": 83
        }
      ]
    },
    {
      "cell_type": "markdown",
      "source": [
        "#15. Method Resolution Order (MRO) and Diamond Inheritance\n",
        "Assignment:\n",
        "Create four classes:\n",
        "\n",
        "A with a method show(),\n",
        "\n",
        "B and C that inherit from A and override show(),\n",
        "\n",
        "D that inherits from both B and C.\n",
        "\n",
        "Create an object of D and call show() to observe MRO."
      ],
      "metadata": {
        "id": "5pkv8jAhUOB2"
      }
    },
    {
      "cell_type": "code",
      "source": [
        "class A():\n",
        "  def show(self):\n",
        "    print(\"class A\")\n",
        "\n",
        "class B(A):\n",
        "  def show(self):\n",
        "    print(\"class B\")\n",
        "\n",
        "class C(A):\n",
        "  def show(self):\n",
        "    print(\"class C\")\n",
        "\n",
        "class D(B, C):\n",
        "  pass\n",
        "\n",
        "d: D = D()\n",
        "\n",
        "d.show()"
      ],
      "metadata": {
        "colab": {
          "base_uri": "https://localhost:8080/"
        },
        "id": "oEBR_ySOUQ3F",
        "outputId": "371fa072-5f30-4708-8ff8-2ada57366cc3"
      },
      "execution_count": null,
      "outputs": [
        {
          "output_type": "stream",
          "name": "stdout",
          "text": [
            "class B\n"
          ]
        }
      ]
    },
    {
      "cell_type": "markdown",
      "source": [
        "#16. Function Decorators\n",
        "Assignment:\n",
        "Write a decorator function log_function_call that prints \"Function is being called\" before a function executes. Apply it to a function say_hello()."
      ],
      "metadata": {
        "id": "_fNig83CXlgP"
      }
    },
    {
      "cell_type": "code",
      "source": [
        "def log_function_call(func):\n",
        "  def wrapper():\n",
        "    print(\"Function is being called\")\n",
        "    return func()\n",
        "  return wrapper\n",
        "\n",
        "@log_function_call        # decorator\n",
        "def say_hello():\n",
        "  print(\"Hello!\")\n",
        "\n",
        "say_hello()"
      ],
      "metadata": {
        "colab": {
          "base_uri": "https://localhost:8080/"
        },
        "id": "AM8H9N79XotP",
        "outputId": "6513e051-e501-4c11-feff-deb16fba4013"
      },
      "execution_count": null,
      "outputs": [
        {
          "output_type": "stream",
          "name": "stdout",
          "text": [
            "Function is being called\n",
            "Hello!\n"
          ]
        }
      ]
    },
    {
      "cell_type": "markdown",
      "source": [
        "#17. Class Decorators\n",
        "Assignment:\n",
        "Create a class decorator add_greeting that modifies a class to add a greet() method returning \"Hello from Decorator!\". Apply it to a class Person.\n",
        "\n"
      ],
      "metadata": {
        "id": "TbXMKePAarAf"
      }
    },
    {
      "cell_type": "code",
      "source": [
        "class AddGreeting():\n",
        "  def __init__(self, cls) -> None:\n",
        "    self.cls = cls\n",
        "\n",
        "  def __call__(self, *args, **kwda) -> str:\n",
        "    class ModifiedClass(self.cls):\n",
        "      def greet(self):\n",
        "        return \"Hello from Decorator!\"\n",
        "    return ModifiedClass(*args, **kwda)\n",
        "\n",
        "@AddGreeting\n",
        "class Person():\n",
        "  pass\n",
        "\n",
        "person: Person = Person()\n",
        "\n",
        "print(person.greet())"
      ],
      "metadata": {
        "colab": {
          "base_uri": "https://localhost:8080/"
        },
        "id": "6zhoDmJEbV_x",
        "outputId": "1144522a-c75e-43a5-b599-6d559acf9f03"
      },
      "execution_count": null,
      "outputs": [
        {
          "output_type": "stream",
          "name": "stdout",
          "text": [
            "Hello from Decorator!\n"
          ]
        }
      ]
    },
    {
      "cell_type": "markdown",
      "source": [
        "#18. Property Decorators: @property, @setter, and @deleter\n",
        "Assignment:\n",
        "Create a class Product with a private attribute _price. Use @property to get the price, @price.setter to update it, and @price.deleter to delete it."
      ],
      "metadata": {
        "id": "NvOtTtVVjJL7"
      }
    },
    {
      "cell_type": "code",
      "source": [
        "class Product():\n",
        "  def __init__(self, price: float) -> None:\n",
        "    self._price = price\n",
        "\n",
        "  @property                         # now we can use this directly as a property rather than method or paranthesis()\n",
        "  def price(self):\n",
        "    return self._price\n",
        "\n",
        "  @price.setter\n",
        "  def price(self, new_price: float) -> float:\n",
        "    self._price = new_price\n",
        "\n",
        "  @price.deleter\n",
        "  def price(self) -> float:\n",
        "    print(\"price deleted.\")\n",
        "    del self._price\n",
        "\n",
        "product: Product = Product(78)\n",
        "\n",
        "print(f\"before setter! price: {product.price}\")\n",
        "\n",
        "product.price = 58\n",
        "\n",
        "print(f\"after setter! price: {product.price}\")\n",
        "\n",
        "del product.price\n",
        "\n",
        "# product.price              # AttributeError: 'Product' object has no attribute '_price'"
      ],
      "metadata": {
        "colab": {
          "base_uri": "https://localhost:8080/"
        },
        "id": "48JZfNVijOY7",
        "outputId": "68717e03-e2a3-4fab-ca71-297e3d4daeaf"
      },
      "execution_count": null,
      "outputs": [
        {
          "output_type": "stream",
          "name": "stdout",
          "text": [
            "before setter! price: 78\n",
            "after setter! price: 58\n",
            "price deleted.\n"
          ]
        }
      ]
    },
    {
      "cell_type": "markdown",
      "source": [
        "#19. callable() and __call__()\n",
        "Assignment:\n",
        "Create a class Multiplier with an __init__() to set a factor. Define a __call__() method that multiplies an input by the factor. Test it with callable() and by calling the object like a function."
      ],
      "metadata": {
        "id": "SKLqR28xt11_"
      }
    },
    {
      "cell_type": "code",
      "source": [
        "class Multiplier():\n",
        "  def __init__(self, factor: int) -> None:\n",
        "    self.factor = factor\n",
        "\n",
        "  def __call__(self, x: float) -> float:\n",
        "    return f\"Multiply: {x} * {self.factor} = {x * self.factor}\"\n",
        "\n",
        "value: Multiplier = Multiplier(4)\n",
        "\n",
        "print(value(7))\n",
        "print(\"callable: \", callable(value))"
      ],
      "metadata": {
        "colab": {
          "base_uri": "https://localhost:8080/"
        },
        "id": "RTIlVYqPt4Ne",
        "outputId": "19186282-baf7-4bbb-916c-aa508b7f2e84"
      },
      "execution_count": null,
      "outputs": [
        {
          "output_type": "stream",
          "name": "stdout",
          "text": [
            "Multiply: 7 * 4 = 28\n",
            "callable:  True\n"
          ]
        }
      ]
    },
    {
      "cell_type": "markdown",
      "source": [
        "#20. Creating a Custom Exception\n",
        "Assignment:\n",
        "Create a custom exception InvalidAgeError. Write a function check_age(age) that raises this exception if age < 18. Handle it with try...except."
      ],
      "metadata": {
        "id": "vSKKwuOY1uEb"
      }
    },
    {
      "cell_type": "code",
      "source": [
        "class InvalidAgeError(Exception):\n",
        "  def __init__(self) -> None:\n",
        "    super().__init__(f\"Age Error❌: You are not adult!\")\n",
        "\n",
        "def check_age(age):\n",
        "  try:\n",
        "    if age < 18:\n",
        "      raise InvalidAgeError\n",
        "    else:\n",
        "      print(\"Okay\")\n",
        "  except InvalidAgeError as e:\n",
        "    print(e)\n",
        "\n",
        "check_age(2)\n",
        "check_age(20)"
      ],
      "metadata": {
        "colab": {
          "base_uri": "https://localhost:8080/"
        },
        "id": "Bavn4eps1zJZ",
        "outputId": "b4c2226b-8e03-4d26-edbd-cf4e66a7011c"
      },
      "execution_count": null,
      "outputs": [
        {
          "output_type": "stream",
          "name": "stdout",
          "text": [
            "Age Error❌: You are not adult!\n",
            "Okay\n"
          ]
        }
      ]
    },
    {
      "cell_type": "markdown",
      "source": [
        "#21. Make a Custom Class Iterable\n",
        "Assignment:\n",
        "Create a class Countdown that takes a start number. Implement __iter__() and __next__() to make the object iterable in a for-loop, counting down to 0."
      ],
      "metadata": {
        "id": "55LMqYFi5_ei"
      }
    },
    {
      "cell_type": "code",
      "source": [
        "class Countdown():\n",
        "  def __init__(self, start: int) -> None:\n",
        "    self.start = start\n",
        "\n",
        "  def __iter__(self):           # custom iterable\n",
        "    return self\n",
        "\n",
        "  def __next__(self):           # making iterator\n",
        "    if self.start < 0:\n",
        "      raise StopIteration\n",
        "    value = self.start\n",
        "    self.start -= 1\n",
        "    return value\n",
        "\n",
        "countdown: Countdown = Countdown(5)\n",
        "\n",
        "for i in countdown:\n",
        "  print(i)"
      ],
      "metadata": {
        "colab": {
          "base_uri": "https://localhost:8080/"
        },
        "id": "Y-Ox5t-M6BJK",
        "outputId": "d0fc2c15-ef13-4dea-c46a-b665476f5075"
      },
      "execution_count": null,
      "outputs": [
        {
          "output_type": "stream",
          "name": "stdout",
          "text": [
            "5\n",
            "4\n",
            "3\n",
            "2\n",
            "1\n",
            "0\n"
          ]
        }
      ]
    }
  ]
}